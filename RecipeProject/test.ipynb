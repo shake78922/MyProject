{
 "cells": [
  {
   "cell_type": "code",
   "execution_count": 1,
   "metadata": {},
   "outputs": [],
   "source": [
    "import os\n",
    "os.environ.setdefault(\"DJANGO_SETTINGS_MODULE\", \"config.settings\")\n",
    "os.environ[\"DJANGO_ALLOW_ASYNC_UNSAFE\"] = \"true\"\n",
    "\n",
    "import django\n",
    "django.setup()\n",
    "\n",
    "from RecipeApp.models import Recipe, Ingredient\n",
    "from django.db.models import Q\n",
    "from itertools import chain"
   ]
  },
  {
   "cell_type": "code",
   "execution_count": 39,
   "metadata": {},
   "outputs": [],
   "source": [
    "rcp_qs = Recipe.objects.all()\n",
    "container_qs = Recipe.objects.none()"
   ]
  },
  {
   "cell_type": "code",
   "execution_count": 40,
   "metadata": {},
   "outputs": [
    {
     "name": "stdout",
     "output_type": "stream",
     "text": [
      "[레시피] 구운가지 닭가슴살 샐러드와 들깨소스\n",
      "[레시피] 세 가지 소스의 파스타\n",
      "[레시피] 토마토 가지 카프레제\n"
     ]
    }
   ],
   "source": [
    "qs = rcp_qs.filter(Q(name__icontains=\"가지\"))\n",
    "for object in qs:\n",
    "    print(object)"
   ]
  },
  {
   "cell_type": "code",
   "execution_count": null,
   "metadata": {},
   "outputs": [],
   "source": [
    "rcp_qs.from_queryset"
   ]
  },
  {
   "cell_type": "code",
   "execution_count": 42,
   "metadata": {},
   "outputs": [
    {
     "name": "stdout",
     "output_type": "stream",
     "text": [
      "8\n",
      "[레시피] 구운가지 닭가슴살 샐러드와 들깨소스\n",
      "[레시피] 구운채소와 간장레몬 소스\n",
      "[레시피] 라따뚜이 고구마 스틱과 수란의 만남\n",
      "[레시피] 오색영양밥 롤\n",
      "[레시피] 고추장 라따뚜이\n",
      "[레시피] 삼합 말이\n",
      "[레시피] 토마토 가지 카프레제\n",
      "[레시피] 세 가지 소스의 파스타\n"
     ]
    }
   ],
   "source": [
    "def search_ingredients(searchword):\n",
    "    rcp_qs = Recipe.objects.all()\n",
    "    container_qs = Recipe.objects.none()\n",
    "    for obj1 in rcp_qs:\n",
    "        tmp_qs1 = obj1.ingredient.filter(Q(name__icontains=\"가지\"))\n",
    "        for obj2 in tmp_qs1:\n",
    "            tmp_qs2 = Recipe.objects.filter(id=obj2.rcp.id)\n",
    "            container_qs = container_qs | tmp_qs2\n",
    "    return container_qs\n",
    "\n",
    "word = \"가지\"\n",
    "qs2 = search_ingredients(word)\n",
    "\n",
    "qs = qs | qs2\n",
    "qs = qs.distinct()\n",
    "print(len(qs))\n",
    "for object in qs:\n",
    "    print(object)\n"
   ]
  },
  {
   "cell_type": "code",
   "execution_count": 29,
   "metadata": {},
   "outputs": [
    {
     "name": "stdout",
     "output_type": "stream",
     "text": [
      "<QuerySet [<Ingredient: [재료] 연두부>, <Ingredient: [재료] 칵테일새우>, <Ingredient: [재료] 달걀>, <Ingredient: [재료] 생크림>, <Ingredient: [재료] 설탕>, <Ingredient: [재료] 시금치>]>\n",
      "<QuerySet [<Ingredient: [재료] 조개 관자>, <Ingredient: [재료] 가지>, <Ingredient: [재료] 달걀(흰자)>, <Ingredient: [재료] 밀가루>, <Ingredient: [재료] 소고기 등심>, <Ingredient: [재료] 팽이버섯>, <Ingredient: [재료] 홍파프리카>, <Ingredient: [재료] 쥬키니호박>, <Ingredient: [재료] 치자>, <Ingredient: [재료] 당근>, <Ingredient: [재료] 부추>, <Ingredient: [재료] 오미자청>, <Ingredient: [재료] 꿀>]>\n",
      "<QuerySet [<Ingredient: [재료] 민들레 잎>, <Ingredient: [재료] 비트>, <Ingredient: [재료] 오렌지(껍질)>, <Ingredient: [재료] 간장>, <Ingredient: [재료] 다진 홍고추>, <Ingredient: [재료] 레몬즙>, <Ingredient: [재료] 설탕>]>\n",
      "<QuerySet [<Ingredient: [재료] 가지>, <Ingredient: [재료] 토마토>, <Ingredient: [재료] 무순>, <Ingredient: [재료] 마늘>, <Ingredient: [재료] 올리브오일>, <Ingredient: [재료] 발사믹식초>, <Ingredient: [재료] 후춧가루>]>\n",
      "<QuerySet [<Ingredient: [재료] 느타리버섯>, <Ingredient: [재료] 표고버섯>, <Ingredient: [재료] 양조간장>, <Ingredient: [재료] 설탕>, <Ingredient: [재료] 식초>, <Ingredient: [재료] 방울토마토>]>\n"
     ]
    }
   ],
   "source": [
    "for object in qs:\n",
    "    print(object.recipe.all())"
   ]
  },
  {
   "cell_type": "code",
   "execution_count": null,
   "metadata": {},
   "outputs": [],
   "source": []
  },
  {
   "cell_type": "code",
   "execution_count": null,
   "metadata": {},
   "outputs": [],
   "source": []
  },
  {
   "cell_type": "code",
   "execution_count": null,
   "metadata": {},
   "outputs": [],
   "source": []
  }
 ],
 "metadata": {
  "kernelspec": {
   "display_name": "Python 3",
   "language": "python",
   "name": "python3"
  },
  "language_info": {
   "codemirror_mode": {
    "name": "ipython",
    "version": 3
   },
   "file_extension": ".py",
   "mimetype": "text/x-python",
   "name": "python",
   "nbconvert_exporter": "python",
   "pygments_lexer": "ipython3",
   "version": "3.11.3"
  },
  "orig_nbformat": 4
 },
 "nbformat": 4,
 "nbformat_minor": 2
}
