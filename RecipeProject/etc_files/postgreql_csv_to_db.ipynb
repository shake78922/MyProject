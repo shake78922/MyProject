{
 "cells": [
  {
   "cell_type": "code",
   "execution_count": null,
   "metadata": {},
   "outputs": [],
   "source": [
    "import psycopg2"
   ]
  },
  {
   "cell_type": "code",
   "execution_count": null,
   "metadata": {},
   "outputs": [],
   "source": [
    "# DB connection 설정\n",
    "conn = psycopg2.connect(database=\"recipes\",\n",
    "                        user='seungwanyu', password='seungwanyu',\n",
    "                        host='127.0.0.1', port='5432')\n",
    "\n",
    "# autocommit 설정\n",
    "conn.autocommit = True\n",
    "\n",
    "# Cursor 생성 : Cursor란, 하나의 DB connection에 대하여 독립적으로 sql문을 실행할 수 있는 작업환경을 제공하는 객체.\n",
    "# 하나의 connection에 동시에 하나의 cursor만 생성 가능하며,\n",
    "# cursor를 통해서 sql문을 실행할 수 있음. 응용 프로그램이 실행 결과를 튜플 단위로 접근할 수 있도록 함.\n",
    "cursor = conn.cursor()\n",
    "\n",
    "# sql문 정의\n",
    "sql1 = '''CREATE TABLE Recipes (\n",
    "ID SERIAL NOT NULL PRIMARY KEY,\n",
    "NAME varchar(100)\n",
    ");\n",
    "'''\n",
    "\n",
    "sql2 = '''CREATE TABLE Ingredients (\n",
    "ID SERIAL NOT NULL PRIMARY KEY,\n",
    "NAME varchar(100),\n",
    "TYPE varchar(100),\n",
    "QUANTITY varchar(100) DEFAULT '',\n",
    "UNIT varchar(50) DEFAULT '',\n",
    "MSMT varchar(50) DEFAULT '',\n",
    "RCP_ID INT NOT NULL,\n",
    "CONSTRAINT fk_ingredients_recipes \n",
    "    FOREIGN KEY (RCP_ID) \n",
    "    REFERENCES Recipes (ID)\n",
    "    ON DELETE CASCADE ON UPDATE CASCADE\n",
    ");\n",
    "'''\n",
    "\n",
    "# sql문 실행\n",
    "cursor.execute(sql1)\n",
    "cursor.execute(sql2)\n",
    "\n",
    "sql3 = '''COPY rcp_table(RCP_PK, RCP_NM, RCP_SUB_NM, RCP_INGRDNT_NM, RCP_INGRDNT_QNT,\n",
    "                       RCP_INGRDNT_UNIT, RCP_INGRDNT_SUB)\n",
    "FROM '/Users/seungwanyu/Desktop/MyProject/refined_recipes1.csv'\n",
    "DELIMITER ','\n",
    "CSV HEADER;'''\n",
    "\n",
    "cursor.execute(sql3)\n",
    "\n",
    "sql4 = '''select * from rcp_table;'''\n",
    "cursor.execute(sql4)\n",
    "\n",
    "# 콘솔출력을 위한 코드\n",
    "for i in cursor.fetchall():\n",
    "    print(i)\n",
    "\n",
    "# conn.commit()\n",
    "\n",
    "# cursor 닫기\n",
    "cursor.close()\n",
    "# db connection 닫기\n",
    "conn.close()"
   ]
  },
  {
   "cell_type": "code",
   "execution_count": null,
   "metadata": {},
   "outputs": [],
   "source": []
  },
  {
   "cell_type": "code",
   "execution_count": null,
   "metadata": {},
   "outputs": [],
   "source": []
  },
  {
   "cell_type": "code",
   "execution_count": null,
   "metadata": {},
   "outputs": [],
   "source": []
  }
 ],
 "metadata": {
  "language_info": {
   "name": "python"
  },
  "orig_nbformat": 4
 },
 "nbformat": 4,
 "nbformat_minor": 2
}
